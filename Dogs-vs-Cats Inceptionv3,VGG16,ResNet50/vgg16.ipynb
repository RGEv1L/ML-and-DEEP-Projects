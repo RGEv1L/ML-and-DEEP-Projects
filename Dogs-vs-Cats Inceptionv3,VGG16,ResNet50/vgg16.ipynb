{
 "cells": [
  {
   "cell_type": "code",
   "execution_count": 47,
   "metadata": {},
   "outputs": [],
   "source": [
    "#Part B TL and VGG16\n",
    "train_dir = 'dogs-vs-cat-small/train/'\n",
    "test_dir = 'dogs-vs-cat-small/test/'\n",
    "validation_dir ='dogs-vs-cat-small/validation/'\n",
    "\n",
    "\n",
    "from keras.applications import VGG16\n",
    "conv_base = VGG16(weights='imagenet',include_top=False,input_shape=(150, 150, 3))"
   ]
  },
  {
   "cell_type": "code",
   "execution_count": 48,
   "metadata": {},
   "outputs": [
    {
     "name": "stdout",
     "output_type": "stream",
     "text": [
      "Found 2000 images belonging to 2 classes.\n",
      "Found 1000 images belonging to 2 classes.\n",
      "Found 1000 images belonging to 2 classes.\n"
     ]
    }
   ],
   "source": [
    "import os\n",
    "import numpy as np\n",
    "from keras.preprocessing.image import ImageDataGenerator\n",
    "datagen = ImageDataGenerator(rescale=1./255)\n",
    "batch_size = 20\n",
    "\n",
    "\n",
    "def extract_features(directory, sample_count):\n",
    "    features = np.zeros(shape=(sample_count, 4, 4, 512))\n",
    "    labels = np.zeros(shape=(sample_count))\n",
    "    generator = datagen.flow_from_directory(directory,target_size=(150, 150),batch_size=batch_size,class_mode='binary')\n",
    "    i=0\n",
    "    for inputs_batch, labels_batch in generator:\n",
    "        features_batch = conv_base.predict(inputs_batch)\n",
    "        features[i * batch_size : (i + 1) * batch_size] = features_batch\n",
    "        labels[i * batch_size : (i + 1) * batch_size] = labels_batch\n",
    "        i+=1\n",
    "        if i * batch_size >= sample_count:\n",
    "            break\n",
    "        return features, labels\n",
    "train_features, train_labels = extract_features(train_dir, 2000)\n",
    "validation_features, validation_labels = extract_features(validation_dir, 1000)\n",
    "test_features, test_labels = extract_features(test_dir, 1000)"
   ]
  },
  {
   "cell_type": "code",
   "execution_count": 49,
   "metadata": {},
   "outputs": [],
   "source": [
    "train_features = np.reshape(train_features, (2000,4*4*512))\n",
    "validation_features = np.reshape(validation_features, (1000,4*4*512))\n",
    "test_features = np.reshape(test_features, (1000,4*4*512))\n",
    "\n"
   ]
  },
  {
   "cell_type": "code",
   "execution_count": 5,
   "metadata": {},
   "outputs": [
    {
     "name": "stdout",
     "output_type": "stream",
     "text": [
      "Epoch 1/30\n",
      "100/100 [==============================] - 3s 31ms/step - loss: 0.6937 - acc: 0.9825 - val_loss: 0.6886 - val_acc: 0.9930\n",
      "Epoch 2/30\n",
      "100/100 [==============================] - 3s 30ms/step - loss: 0.6886 - acc: 0.9945 - val_loss: 0.6830 - val_acc: 0.9930\n",
      "Epoch 3/30\n",
      "100/100 [==============================] - 3s 30ms/step - loss: 0.6803 - acc: 0.9955 - val_loss: 0.6769 - val_acc: 0.9950\n",
      "Epoch 4/30\n",
      "100/100 [==============================] - 3s 32ms/step - loss: 0.6742 - acc: 0.9970 - val_loss: 0.6697 - val_acc: 0.9940\n",
      "Epoch 5/30\n",
      "100/100 [==============================] - 3s 29ms/step - loss: 0.6667 - acc: 0.9960 - val_loss: 0.6625 - val_acc: 0.9930\n",
      "Epoch 6/30\n",
      "100/100 [==============================] - 3s 30ms/step - loss: 0.6592 - acc: 0.9975 - val_loss: 0.6548 - val_acc: 0.9960\n",
      "Epoch 7/30\n",
      "100/100 [==============================] - 3s 34ms/step - loss: 0.6501 - acc: 0.9985 - val_loss: 0.6474 - val_acc: 0.9950\n",
      "Epoch 8/30\n",
      "100/100 [==============================] - 3s 35ms/step - loss: 0.6419 - acc: 0.9995 - val_loss: 0.6397 - val_acc: 0.9940\n",
      "Epoch 9/30\n",
      "100/100 [==============================] - 4s 37ms/step - loss: 0.6343 - acc: 0.9995 - val_loss: 0.6310 - val_acc: 0.9960\n",
      "Epoch 10/30\n",
      "100/100 [==============================] - 4s 40ms/step - loss: 0.6252 - acc: 0.9995 - val_loss: 0.6222 - val_acc: 0.9970\n",
      "Epoch 11/30\n",
      "100/100 [==============================] - 4s 36ms/step - loss: 0.6164 - acc: 0.9985 - val_loss: 0.6137 - val_acc: 0.9960\n",
      "Epoch 12/30\n",
      "100/100 [==============================] - 4s 37ms/step - loss: 0.6079 - acc: 1.0000 - val_loss: 0.6050 - val_acc: 0.9960\n",
      "Epoch 13/30\n",
      "100/100 [==============================] - 4s 37ms/step - loss: 0.5986 - acc: 0.9995 - val_loss: 0.5958 - val_acc: 0.9960\n",
      "Epoch 14/30\n",
      "100/100 [==============================] - 4s 38ms/step - loss: 0.5901 - acc: 0.9990 - val_loss: 0.5866 - val_acc: 0.9950\n",
      "Epoch 15/30\n",
      "100/100 [==============================] - 4s 36ms/step - loss: 0.5794 - acc: 1.0000 - val_loss: 0.5776 - val_acc: 0.9950\n",
      "Epoch 16/30\n",
      "100/100 [==============================] - 3s 32ms/step - loss: 0.5706 - acc: 0.9995 - val_loss: 0.5674 - val_acc: 0.9960\n",
      "Epoch 17/30\n",
      "100/100 [==============================] - 3s 35ms/step - loss: 0.5598 - acc: 1.0000 - val_loss: 0.5582 - val_acc: 0.9950\n",
      "Epoch 18/30\n",
      "100/100 [==============================] - 3s 34ms/step - loss: 0.5504 - acc: 0.9995 - val_loss: 0.5489 - val_acc: 0.9930\n",
      "Epoch 19/30\n",
      "100/100 [==============================] - 3s 31ms/step - loss: 0.5396 - acc: 1.0000 - val_loss: 0.5381 - val_acc: 0.9940\n",
      "Epoch 20/30\n",
      "100/100 [==============================] - 3s 32ms/step - loss: 0.5294 - acc: 1.0000 - val_loss: 0.5282 - val_acc: 0.9930\n",
      "Epoch 21/30\n",
      "100/100 [==============================] - 3s 32ms/step - loss: 0.5193 - acc: 1.0000 - val_loss: 0.5169 - val_acc: 0.9960\n",
      "Epoch 22/30\n",
      "100/100 [==============================] - 3s 33ms/step - loss: 0.5082 - acc: 1.0000 - val_loss: 0.5063 - val_acc: 0.9960\n",
      "Epoch 23/30\n",
      "100/100 [==============================] - 3s 29ms/step - loss: 0.4980 - acc: 1.0000 - val_loss: 0.4961 - val_acc: 0.9960\n",
      "Epoch 24/30\n",
      "100/100 [==============================] - 4s 35ms/step - loss: 0.4877 - acc: 1.0000 - val_loss: 0.4854 - val_acc: 0.9960\n",
      "Epoch 25/30\n",
      "100/100 [==============================] - 4s 36ms/step - loss: 0.4766 - acc: 1.0000 - val_loss: 0.4747 - val_acc: 0.9960\n",
      "Epoch 26/30\n",
      "100/100 [==============================] - 3s 31ms/step - loss: 0.4660 - acc: 1.0000 - val_loss: 0.4637 - val_acc: 0.9960\n",
      "Epoch 27/30\n",
      "100/100 [==============================] - 3s 31ms/step - loss: 0.4545 - acc: 1.0000 - val_loss: 0.4533 - val_acc: 0.9960\n",
      "Epoch 28/30\n",
      "100/100 [==============================] - 3s 32ms/step - loss: 0.4430 - acc: 1.0000 - val_loss: 0.4425 - val_acc: 0.9960\n",
      "Epoch 29/30\n",
      "100/100 [==============================] - 3s 30ms/step - loss: 0.4329 - acc: 1.0000 - val_loss: 0.4320 - val_acc: 0.9960\n",
      "Epoch 30/30\n",
      "100/100 [==============================] - 3s 31ms/step - loss: 0.4220 - acc: 1.0000 - val_loss: 0.4206 - val_acc: 0.9960\n"
     ]
    }
   ],
   "source": [
    "from keras import models\n",
    "from keras import layers\n",
    "from keras import optimizers\n",
    "\n",
    "model = models.Sequential()\n",
    "model.add(layers.Dense(256, activation='relu', input_dim=4* 4 * 512))\n",
    "model.add(layers.Dropout(0.5))\n",
    "model.add(layers.Dense(1, activation='sigmoid'))\n",
    "\n",
    "model.compile(optimizer=optimizers.RMSprop(lr=2e-5),loss='binary_crossentropy',metrics=['acc'])\n",
    "history = model.fit(train_features, train_labels,epochs=30,batch_size=20,validation_data=(validation_features, validation_labels))"
   ]
  },
  {
   "cell_type": "code",
   "execution_count": 6,
   "metadata": {},
   "outputs": [
    {
     "data": {
      "image/png": "[encoded data removed]",
      "text/plain": [
       "<Figure size 432x288 with 1 Axes>"
      ]
     },
     "metadata": {
      "needs_background": "light"
     },
     "output_type": "display_data"
    },
    {
     "data": {
      "image/png": "[encoded data removed]",
      "text/plain": [
       "<Figure size 432x288 with 1 Axes>"
      ]
     },
     "metadata": {
      "needs_background": "light"
     },
     "output_type": "display_data"
    }
   ],
   "source": [
    "import matplotlib.pyplot as plt\n",
    "acc = history.history['acc']\n",
    "val_acc = history.history['val_acc']\n",
    "loss = history.history['loss']\n",
    "val_loss = history.history['val_loss']\n",
    "epochs = range(1, len(acc) + 1)\n",
    "plt.plot(epochs, acc, 'bo', label='Training acc')\n",
    "plt.plot(epochs, val_acc, 'b', label='Validation acc')\n",
    "plt.title('Training and validation accuracy')\n",
    "plt.legend()\n",
    "plt.figure()\n",
    "plt.plot(epochs, loss, 'bo', label='Training loss')\n",
    "plt.plot(epochs, val_loss, 'b', label='Validation loss')\n",
    "plt.title('Training and validation loss')\n",
    "plt.legend()\n",
    "plt.show()"
   ]
  },
  {
   "cell_type": "code",
   "execution_count": null,
   "metadata": {},
   "outputs": [],
   "source": []
  }
 ],
 "metadata": {
  "kernelspec": {
   "display_name": "Python 3",
   "language": "python",
   "name": "python3"
  },
  "language_info": {
   "codemirror_mode": {
    "name": "ipython",
    "version": 3
   },
   "file_extension": ".py",
   "mimetype": "text/x-python",
   "name": "python",
   "nbconvert_exporter": "python",
   "pygments_lexer": "ipython3",
   "version": "3.7.9"
  }
 },
 "nbformat": 4,
 "nbformat_minor": 4
}
