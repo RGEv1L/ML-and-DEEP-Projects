{
 "cells": [
  {
   "cell_type": "code",
   "execution_count": 41,
   "metadata": {},
   "outputs": [],
   "source": [
    "#Part C TL and IceptionV3\n",
    "train_dir = 'dogs-vs-cat-small/train/'\n",
    "test_dir = 'dogs-vs-cat-small/test/'\n",
    "validation_dir ='dogs-vs-cat-small/validation/'\n",
    "\n",
    "from keras.applications.inception_v3 import InceptionV3\n",
    "from keras.preprocessing import image\n",
    "from keras.models import Model\n",
    "from keras.layers import Dense, GlobalAveragePooling2D, Dropout\n",
    "from keras import backend as K\n",
    "\n",
    "#Inception kernel\n",
    "conv_base = InceptionV3(weights='imagenet', include_top=False,input_shape=(150, 150, 3))\n"
   ]
  },
  {
   "cell_type": "code",
   "execution_count": 42,
   "metadata": {},
   "outputs": [
    {
     "name": "stdout",
     "output_type": "stream",
     "text": [
      "Found 2000 images belonging to 2 classes.\n",
      "Found 1000 images belonging to 2 classes.\n",
      "Found 1000 images belonging to 2 classes.\n"
     ]
    }
   ],
   "source": [
    "import os\n",
    "import numpy as np\n",
    "from keras.preprocessing.image import ImageDataGenerator\n",
    "datagen = ImageDataGenerator(rescale=1./255)\n",
    "batch_size = 20\n",
    "\n",
    "\n",
    "def extract_features(directory, sample_count):\n",
    "    features = np.zeros(shape=(sample_count, 3, 3, 2048))\n",
    "    labels = np.zeros(shape=(sample_count))\n",
    "    generator = datagen.flow_from_directory(directory,target_size=(150, 150),batch_size=batch_size,class_mode='binary')\n",
    "    i=0\n",
    "    for inputs_batch, labels_batch in generator:\n",
    "        features_batch = conv_base.predict(inputs_batch)\n",
    "        features[i * batch_size : (i + 1) * batch_size] = features_batch\n",
    "        labels[i * batch_size : (i + 1) * batch_size] = labels_batch\n",
    "        i+=1\n",
    "        if i * batch_size >= sample_count:\n",
    "            break\n",
    "        return features, labels\n",
    "train_features, train_labels = extract_features(train_dir, 2000)\n",
    "validation_features, validation_labels = extract_features(validation_dir, 1000)\n",
    "test_features, test_labels = extract_features(test_dir, 1000)\n"
   ]
  },
  {
   "cell_type": "code",
   "execution_count": 35,
   "metadata": {},
   "outputs": [],
   "source": [
    "train_features = np.reshape(train_features, (2000,3*3*2048))\n",
    "validation_features = np.reshape(validation_features, (1000,3*3*2048))\n",
    "test_features = np.reshape(test_features, (1000,3*3*2048))\n",
    "\n"
   ]
  },
  {
   "cell_type": "code",
   "execution_count": 37,
   "metadata": {},
   "outputs": [
    {
     "name": "stdout",
     "output_type": "stream",
     "text": [
      "Epoch 1/30\n",
      "100/100 [==============================] - 6s 60ms/step - loss: 0.6956 - acc: 0.9965 - val_loss: 0.6773 - val_acc: 0.9960\n",
      "Epoch 2/30\n",
      "100/100 [==============================] - 6s 57ms/step - loss: 0.6807 - acc: 0.9980 - val_loss: 0.6655 - val_acc: 0.9990\n",
      "Epoch 3/30\n",
      "100/100 [==============================] - 6s 56ms/step - loss: 0.6671 - acc: 0.9985 - val_loss: 0.6560 - val_acc: 0.9990\n",
      "Epoch 4/30\n",
      "100/100 [==============================] - 6s 57ms/step - loss: 0.6550 - acc: 1.0000 - val_loss: 0.6570 - val_acc: 0.9940\n",
      "Epoch 5/30\n",
      "100/100 [==============================] - 6s 60ms/step - loss: 0.6453 - acc: 1.0000 - val_loss: 0.6407 - val_acc: 0.9990\n",
      "Epoch 6/30\n",
      "100/100 [==============================] - 6s 63ms/step - loss: 0.6353 - acc: 1.0000 - val_loss: 0.6271 - val_acc: 0.9970\n",
      "Epoch 7/30\n",
      "100/100 [==============================] - 6s 62ms/step - loss: 0.6250 - acc: 1.0000 - val_loss: 0.6202 - val_acc: 0.9990\n",
      "Epoch 8/30\n",
      "100/100 [==============================] - 6s 62ms/step - loss: 0.6143 - acc: 1.0000 - val_loss: 0.6064 - val_acc: 0.9990\n",
      "Epoch 9/30\n",
      "100/100 [==============================] - 6s 62ms/step - loss: 0.6036 - acc: 1.0000 - val_loss: 0.5985 - val_acc: 0.9990\n",
      "Epoch 10/30\n",
      "100/100 [==============================] - 6s 61ms/step - loss: 0.5924 - acc: 1.0000 - val_loss: 0.5868 - val_acc: 0.9990\n",
      "Epoch 11/30\n",
      "100/100 [==============================] - 6s 65ms/step - loss: 0.5814 - acc: 1.0000 - val_loss: 0.5743 - val_acc: 0.9990\n",
      "Epoch 12/30\n",
      "100/100 [==============================] - 6s 64ms/step - loss: 0.5703 - acc: 1.0000 - val_loss: 0.5624 - val_acc: 0.9990\n",
      "Epoch 13/30\n",
      "100/100 [==============================] - 6s 62ms/step - loss: 0.5588 - acc: 1.0000 - val_loss: 0.5505 - val_acc: 0.9990\n",
      "Epoch 14/30\n",
      "100/100 [==============================] - 6s 64ms/step - loss: 0.5467 - acc: 1.0000 - val_loss: 0.5384 - val_acc: 0.9970\n",
      "Epoch 15/30\n",
      "100/100 [==============================] - 6s 63ms/step - loss: 0.5349 - acc: 1.0000 - val_loss: 0.5298 - val_acc: 0.9990\n",
      "Epoch 16/30\n",
      "100/100 [==============================] - 6s 63ms/step - loss: 0.5234 - acc: 1.0000 - val_loss: 0.5155 - val_acc: 0.9990\n",
      "Epoch 17/30\n",
      "100/100 [==============================] - 6s 63ms/step - loss: 0.5109 - acc: 1.0000 - val_loss: 0.5023 - val_acc: 0.9990\n",
      "Epoch 18/30\n",
      "100/100 [==============================] - 6s 64ms/step - loss: 0.4987 - acc: 1.0000 - val_loss: 0.4921 - val_acc: 0.9990\n",
      "Epoch 19/30\n",
      "100/100 [==============================] - 6s 62ms/step - loss: 0.4866 - acc: 1.0000 - val_loss: 0.4806 - val_acc: 0.9990\n",
      "Epoch 20/30\n",
      "100/100 [==============================] - 7s 65ms/step - loss: 0.4744 - acc: 1.0000 - val_loss: 0.4674 - val_acc: 0.9990\n",
      "Epoch 21/30\n",
      "100/100 [==============================] - 7s 68ms/step - loss: 0.4623 - acc: 1.0000 - val_loss: 0.4555 - val_acc: 0.9990\n",
      "Epoch 22/30\n",
      "100/100 [==============================] - 7s 66ms/step - loss: 0.4496 - acc: 1.0000 - val_loss: 0.4437 - val_acc: 0.9990\n",
      "Epoch 23/30\n",
      "100/100 [==============================] - 6s 64ms/step - loss: 0.4372 - acc: 1.0000 - val_loss: 0.4318 - val_acc: 0.9990\n",
      "Epoch 24/30\n",
      "100/100 [==============================] - 7s 69ms/step - loss: 0.4251 - acc: 1.0000 - val_loss: 0.4199 - val_acc: 0.9990\n",
      "Epoch 25/30\n",
      "100/100 [==============================] - 7s 66ms/step - loss: 0.4131 - acc: 1.0000 - val_loss: 0.4081 - val_acc: 0.9990\n",
      "Epoch 26/30\n",
      "100/100 [==============================] - 6s 61ms/step - loss: 0.4009 - acc: 1.0000 - val_loss: 0.4001 - val_acc: 0.9990\n",
      "Epoch 27/30\n",
      "100/100 [==============================] - 5s 55ms/step - loss: 0.3890 - acc: 1.0000 - val_loss: 0.3884 - val_acc: 0.9990\n",
      "Epoch 28/30\n",
      "100/100 [==============================] - 5s 53ms/step - loss: 0.3763 - acc: 1.0000 - val_loss: 0.3764 - val_acc: 0.9990\n",
      "Epoch 29/30\n",
      "100/100 [==============================] - 5s 51ms/step - loss: 0.3644 - acc: 1.0000 - val_loss: 0.3612 - val_acc: 0.9990\n",
      "Epoch 30/30\n",
      "100/100 [==============================] - 5s 52ms/step - loss: 0.3522 - acc: 1.0000 - val_loss: 0.3489 - val_acc: 0.9990\n"
     ]
    }
   ],
   "source": [
    "from keras import models\n",
    "from keras import layers\n",
    "from keras import optimizers\n",
    "\n",
    "model = models.Sequential()\n",
    "model.add(layers.Dense(256, activation='relu', input_dim=3* 3 * 2048))\n",
    "model.add(layers.Dropout(0.5))\n",
    "model.add(layers.Dense(1, activation='sigmoid'))\n",
    "\n",
    "model.compile(optimizer=optimizers.RMSprop(lr=2e-5),loss='binary_crossentropy',metrics=['acc'])\n",
    "history = model.fit(train_features, train_labels,epochs=30,batch_size=20,validation_data=(validation_features, validation_labels))"
   ]
  },
  {
   "cell_type": "code",
   "execution_count": 38,
   "metadata": {},
   "outputs": [
    {
     "data": {
      "image/png": "[encoded data removed]",
      "text/plain": [
       "<Figure size 432x288 with 1 Axes>"
      ]
     },
     "metadata": {
      "needs_background": "light"
     },
     "output_type": "display_data"
    },
    {
     "data": {
      "image/png": "[encoded data removed]",
      "text/plain": [
       "<Figure size 432x288 with 1 Axes>"
      ]
     },
     "metadata": {
      "needs_background": "light"
     },
     "output_type": "display_data"
    }
   ],
   "source": [
    "import matplotlib.pyplot as plt\n",
    "acc = history.history['acc']\n",
    "val_acc = history.history['val_acc']\n",
    "loss = history.history['loss']\n",
    "val_loss = history.history['val_loss']\n",
    "epochs = range(1, len(acc) + 1)\n",
    "plt.plot(epochs, acc, 'bo', label='Training acc')\n",
    "plt.plot(epochs, val_acc, 'b', label='Validation acc')\n",
    "plt.title('Training and validation accuracy')\n",
    "plt.legend()\n",
    "plt.figure()\n",
    "plt.plot(epochs, loss, 'bo', label='Training loss')\n",
    "plt.plot(epochs, val_loss, 'b', label='Validation loss')\n",
    "plt.title('Training and validation loss')\n",
    "plt.legend()\n",
    "plt.show()"
   ]
  },
  {
   "cell_type": "code",
   "execution_count": null,
   "metadata": {},
   "outputs": [],
   "source": []
  }
 ],
 "metadata": {
  "kernelspec": {
   "display_name": "Python 3",
   "language": "python",
   "name": "python3"
  },
  "language_info": {
   "codemirror_mode": {
    "name": "ipython",
    "version": 3
   },
   "file_extension": ".py",
   "mimetype": "text/x-python",
   "name": "python",
   "nbconvert_exporter": "python",
   "pygments_lexer": "ipython3",
   "version": "3.7.9"
  }
 },
 "nbformat": 4,
 "nbformat_minor": 4
}
