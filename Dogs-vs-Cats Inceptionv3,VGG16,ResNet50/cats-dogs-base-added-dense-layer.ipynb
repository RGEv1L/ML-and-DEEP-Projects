{
 "cells": [
  {
   "cell_type": "code",
   "execution_count": 1,
   "metadata": {},
   "outputs": [],
   "source": [
    "import os\n",
    "from keras import layers , models , optimizers\n",
    "from keras.preprocessing.image import ImageDataGenerator\n",
    "import matplotlib.pyplot as plt\n",
    "import numpy as np\n",
    "from keras.applications import VGG16\n"
   ]
  },
  {
   "cell_type": "code",
   "execution_count": 2,
   "metadata": {},
   "outputs": [
    {
     "name": "stdout",
     "output_type": "stream",
     "text": [
      "Cats Training Images 1000\n",
      "Cats Testing Images 500\n",
      "Cats Validation Images 500\n",
      "Dogs Training Images 1000\n",
      "Dogs Testing Images 500\n",
      "Dogs Validation Images 500\n"
     ]
    }
   ],
   "source": [
    "#Fetching datasets for cats_train, cats_test, dogs_train, dogs_test , cats_valid , dogs_valid\n",
    "cats_train = 'dogs-vs-cat-small/train/cats'\n",
    "cats_test = 'dogs-vs-cat-small/test/cats'\n",
    "cats_valid = 'dogs-vs-cat-small/validation/cats'\n",
    "\n",
    "dogs_train = 'dogs-vs-cat-small/train/dogs'\n",
    "dogs_test = 'dogs-vs-cat-small/test/dogs'\n",
    "dogs_valid = 'dogs-vs-cat-small/validation/dogs'\n",
    "\n",
    "\n",
    "print(\"Cats Training Images\",len(os.listdir(cats_train)))\n",
    "print(\"Cats Testing Images\",len(os.listdir(cats_test)))\n",
    "print(\"Cats Validation Images\",len(os.listdir(cats_valid)))\n",
    "\n",
    "print(\"Dogs Training Images\",len(os.listdir(dogs_train)))\n",
    "print(\"Dogs Testing Images\",len(os.listdir(dogs_test)))\n",
    "print(\"Dogs Validation Images\",len(os.listdir(dogs_valid)))\n",
    "\n",
    "train_dir = 'dogs-vs-cat-small/train/'\n",
    "test_dir = 'dogs-vs-cat-small/test/'\n",
    "validation_dir ='dogs-vs-cat-small/validation/'\n"
   ]
  },
  {
   "cell_type": "code",
   "execution_count": 3,
   "metadata": {},
   "outputs": [
    {
     "name": "stdout",
     "output_type": "stream",
     "text": [
      "Found 2000 images belonging to 2 classes.\n",
      "Found 1000 images belonging to 2 classes.\n"
     ]
    }
   ],
   "source": [
    "#Normalizing color ranges to 0-1\n",
    "rescale_train = ImageDataGenerator(rescale=1./255)\n",
    "rescale_test = ImageDataGenerator(rescale=1./255)\n",
    "\n",
    "\n",
    "train_get = rescale_train.flow_from_directory('dogs-vs-cat-small/train',target_size=(150, 150),batch_size=20,class_mode='binary')\n",
    "valid_get = rescale_test.flow_from_directory('dogs-vs-cat-small/validation',target_size=(150, 150),batch_size=20,class_mode='binary')"
   ]
  },
  {
   "cell_type": "code",
   "execution_count": 4,
   "metadata": {},
   "outputs": [
    {
     "name": "stdout",
     "output_type": "stream",
     "text": [
      "Model: \"sequential\"\n",
      "_________________________________________________________________\n",
      "Layer (type)                 Output Shape              Param #   \n",
      "=================================================================\n",
      "conv2d (Conv2D)              (None, 148, 148, 32)      896       \n",
      "_________________________________________________________________\n",
      "max_pooling2d (MaxPooling2D) (None, 74, 74, 32)        0         \n",
      "_________________________________________________________________\n",
      "conv2d_1 (Conv2D)            (None, 72, 72, 64)        18496     \n",
      "_________________________________________________________________\n",
      "max_pooling2d_1 (MaxPooling2 (None, 36, 36, 64)        0         \n",
      "_________________________________________________________________\n",
      "conv2d_2 (Conv2D)            (None, 34, 34, 128)       73856     \n",
      "_________________________________________________________________\n",
      "max_pooling2d_2 (MaxPooling2 (None, 17, 17, 128)       0         \n",
      "_________________________________________________________________\n",
      "conv2d_3 (Conv2D)            (None, 15, 15, 128)       147584    \n",
      "_________________________________________________________________\n",
      "max_pooling2d_3 (MaxPooling2 (None, 7, 7, 128)         0         \n",
      "_________________________________________________________________\n",
      "flatten (Flatten)            (None, 6272)              0         \n",
      "_________________________________________________________________\n",
      "dense (Dense)                (None, 512)               3211776   \n",
      "_________________________________________________________________\n",
      "dense_1 (Dense)              (None, 1)                 513       \n",
      "=================================================================\n",
      "Total params: 3,453,121\n",
      "Trainable params: 3,453,121\n",
      "Non-trainable params: 0\n",
      "_________________________________________________________________\n"
     ]
    }
   ],
   "source": [
    "#initializating as a sequencial model\n",
    "CNN = models.Sequential()\n",
    "#Base Layer\n",
    "CNN.add(layers.Conv2D(32, (3, 3), activation='relu',input_shape=(150, 150, 3)))\n",
    "CNN.add(layers.MaxPooling2D((2, 2)))\n",
    "\n",
    "#further 3 layers of 64,128,128. No need to add input shape as it is already defined in base layer.\n",
    "CNN.add(layers.Conv2D(64, (3, 3), activation='relu'))\n",
    "CNN.add(layers.MaxPooling2D((2, 2)))\n",
    "\n",
    "CNN.add(layers.Conv2D(128, (3, 3), activation='relu'))\n",
    "CNN.add(layers.MaxPooling2D((2, 2)))\n",
    "\n",
    "CNN.add(layers.Conv2D(128, (3, 3), activation='relu'))\n",
    "CNN.add(layers.MaxPooling2D((2, 2)))\n",
    "\n",
    "CNN.add(layers.Flatten()) # 1-D vector space\n",
    "\n",
    "CNN.add(layers.Dense(512, activation='relu')) # 512 neurons\n",
    "\n",
    "CNN.add(layers.Dense(1, activation='sigmoid')) # 0 or 1 output, So one neuron required at the end only.\n",
    "\n",
    "CNN.summary()"
   ]
  },
  {
   "cell_type": "code",
   "execution_count": 5,
   "metadata": {},
   "outputs": [],
   "source": [
    "#Adding loss function\n",
    "CNN.compile(loss='binary_crossentropy', optimizer=optimizers.RMSprop(),metrics=['acc'])\n"
   ]
  },
  {
   "cell_type": "code",
   "execution_count": 6,
   "metadata": {},
   "outputs": [
    {
     "name": "stdout",
     "output_type": "stream",
     "text": [
      "WARNING:tensorflow:From <ipython-input-6-0e76fbb833f5>:4: Model.fit_generator (from tensorflow.python.keras.engine.training) is deprecated and will be removed in a future version.\n",
      "Instructions for updating:\n",
      "Please use Model.fit, which supports generators.\n",
      "Epoch 1/30\n",
      "100/100 [==============================] - 77s 771ms/step - loss: 0.7288 - acc: 0.5295 - val_loss: 0.6840 - val_acc: 0.5930\n",
      "Epoch 2/30\n",
      "100/100 [==============================] - 63s 635ms/step - loss: 0.6746 - acc: 0.6000 - val_loss: 0.7055 - val_acc: 0.6150\n",
      "Epoch 3/30\n",
      "100/100 [==============================] - 62s 618ms/step - loss: 0.6264 - acc: 0.6540 - val_loss: 0.6163 - val_acc: 0.6430\n",
      "Epoch 4/30\n",
      "100/100 [==============================] - 62s 616ms/step - loss: 0.5847 - acc: 0.7025 - val_loss: 0.6047 - val_acc: 0.6650\n",
      "Epoch 5/30\n",
      "100/100 [==============================] - 62s 624ms/step - loss: 0.5465 - acc: 0.7490 - val_loss: 0.5808 - val_acc: 0.7070\n",
      "Epoch 6/30\n",
      "100/100 [==============================] - 64s 638ms/step - loss: 0.4937 - acc: 0.7540 - val_loss: 0.5780 - val_acc: 0.7150\n",
      "Epoch 7/30\n",
      "100/100 [==============================] - 62s 617ms/step - loss: 0.4435 - acc: 0.7910 - val_loss: 0.9306 - val_acc: 0.6310\n",
      "Epoch 8/30\n",
      "100/100 [==============================] - 62s 617ms/step - loss: 0.4101 - acc: 0.8130 - val_loss: 0.6416 - val_acc: 0.6810\n",
      "Epoch 9/30\n",
      "100/100 [==============================] - 62s 620ms/step - loss: 0.3504 - acc: 0.8405 - val_loss: 0.7052 - val_acc: 0.7130\n",
      "Epoch 10/30\n",
      "100/100 [==============================] - 62s 617ms/step - loss: 0.2919 - acc: 0.8745 - val_loss: 0.8820 - val_acc: 0.6990\n",
      "Epoch 11/30\n",
      "100/100 [==============================] - 61s 610ms/step - loss: 0.2549 - acc: 0.8890 - val_loss: 0.7841 - val_acc: 0.7390\n",
      "Epoch 12/30\n",
      "100/100 [==============================] - 60s 599ms/step - loss: 0.2107 - acc: 0.9220 - val_loss: 0.9063 - val_acc: 0.7170\n",
      "Epoch 13/30\n",
      "100/100 [==============================] - 60s 601ms/step - loss: 0.1530 - acc: 0.9405 - val_loss: 0.9842 - val_acc: 0.7420\n",
      "Epoch 14/30\n",
      "100/100 [==============================] - 60s 600ms/step - loss: 0.1256 - acc: 0.9545 - val_loss: 1.4042 - val_acc: 0.7150\n",
      "Epoch 15/30\n",
      "100/100 [==============================] - 60s 600ms/step - loss: 0.1215 - acc: 0.9545 - val_loss: 1.1788 - val_acc: 0.7090\n",
      "Epoch 16/30\n",
      "100/100 [==============================] - 60s 599ms/step - loss: 0.0919 - acc: 0.9665 - val_loss: 1.1596 - val_acc: 0.7460\n",
      "Epoch 17/30\n",
      "100/100 [==============================] - 60s 601ms/step - loss: 0.1191 - acc: 0.9650 - val_loss: 1.5137 - val_acc: 0.7130\n",
      "Epoch 18/30\n",
      "100/100 [==============================] - 64s 643ms/step - loss: 0.0576 - acc: 0.9815 - val_loss: 1.9500 - val_acc: 0.7410\n",
      "Epoch 19/30\n",
      "100/100 [==============================] - 62s 615ms/step - loss: 0.0698 - acc: 0.9790 - val_loss: 1.6578 - val_acc: 0.7280\n",
      "Epoch 20/30\n",
      "100/100 [==============================] - 62s 617ms/step - loss: 0.0721 - acc: 0.9810 - val_loss: 1.6092 - val_acc: 0.7190\n",
      "Epoch 21/30\n",
      "100/100 [==============================] - 62s 617ms/step - loss: 0.1201 - acc: 0.9835 - val_loss: 2.8983 - val_acc: 0.6000\n",
      "Epoch 22/30\n",
      "100/100 [==============================] - 62s 617ms/step - loss: 0.0477 - acc: 0.9860 - val_loss: 2.6461 - val_acc: 0.7270\n",
      "Epoch 23/30\n",
      "100/100 [==============================] - 62s 620ms/step - loss: 0.0884 - acc: 0.9800 - val_loss: 2.8548 - val_acc: 0.7100\n",
      "Epoch 24/30\n",
      "100/100 [==============================] - 60s 597ms/step - loss: 0.0706 - acc: 0.9845 - val_loss: 2.4870 - val_acc: 0.7340\n",
      "Epoch 25/30\n",
      "100/100 [==============================] - 60s 597ms/step - loss: 0.0784 - acc: 0.9790 - val_loss: 2.2687 - val_acc: 0.7320\n",
      "Epoch 26/30\n",
      "100/100 [==============================] - 60s 596ms/step - loss: 0.0544 - acc: 0.9895 - val_loss: 2.3210 - val_acc: 0.7220\n",
      "Epoch 27/30\n",
      "100/100 [==============================] - 60s 599ms/step - loss: 0.0623 - acc: 0.9870 - val_loss: 2.1383 - val_acc: 0.7490\n",
      "Epoch 28/30\n",
      "100/100 [==============================] - 60s 601ms/step - loss: 0.0724 - acc: 0.9865 - val_loss: 1.9413 - val_acc: 0.7190\n",
      "Epoch 29/30\n",
      "100/100 [==============================] - 60s 597ms/step - loss: 0.0705 - acc: 0.9825 - val_loss: 2.7554 - val_acc: 0.7480\n",
      "Epoch 30/30\n",
      "100/100 [==============================] - 62s 622ms/step - loss: 0.0739 - acc: 0.9910 - val_loss: 2.6027 - val_acc: 0.7200\n"
     ]
    }
   ],
   "source": [
    "#Model training with 30 epochs and 100 steps per epoch\n",
    "import scipy\n",
    "\n",
    "history = CNN.fit_generator(train_get,steps_per_epoch=100,epochs=30,validation_data=valid_get,validation_steps=50)\n"
   ]
  },
  {
   "cell_type": "code",
   "execution_count": 10,
   "metadata": {},
   "outputs": [
    {
     "data": {
      "image/png": "[encoded data removed]",
      "text/plain": [
       "<Figure size 432x288 with 1 Axes>"
      ]
     },
     "metadata": {
      "needs_background": "light"
     },
     "output_type": "display_data"
    },
    {
     "data": {
      "image/png": "[encoded data removed]",
      "text/plain": [
       "<Figure size 432x288 with 1 Axes>"
      ]
     },
     "metadata": {
      "needs_background": "light"
     },
     "output_type": "display_data"
    }
   ],
   "source": [
    "import h5py\n",
    "CNN.save('weights1.h5')\n",
    "\n",
    "#Plotting losses and accuracy calcuated during training.\n",
    "\n",
    "accuracy = history.history['acc']\n",
    "accuracy_val = history.history['val_acc']\n",
    "loss = history.history['loss']\n",
    "val_loss = history.history['val_loss']\n",
    "\n",
    "epochs = range(1, len(accuracy) + 1)\n",
    "plt.plot(epochs, accuracy, 'bo', label='Training Accuracy')\n",
    "plt.plot(epochs, accuracy_val, 'b', label='Validation Accuracy')\n",
    "plt.title('Training and validation accuracy')\n",
    "plt.legend()\n",
    "plt.figure()\n",
    "plt.plot(epochs, loss, 'bo', label='Training Loss')\n",
    "plt.plot(epochs, val_loss, 'b', label='Validation Loss')\n",
    "plt.title('Training and Validation Loss')\n",
    "plt.legend()\n",
    "plt.show()"
   ]
  },
  {
   "cell_type": "code",
   "execution_count": 30,
   "metadata": {},
   "outputs": [
    {
     "name": "stdout",
     "output_type": "stream",
     "text": [
      "Found 1000 images belonging to 2 classes.\n",
      "50/50 [==============================] - 7s 143ms/step - loss: 1.5453 - acc: 0.7710\n"
     ]
    }
   ],
   "source": [
    "test_loss, test_acc = CNN.evaluate(rescale_train.flow_from_directory('dogs-vs-cat-small/test',target_size=(150, 150),batch_size=20,class_mode='binary'))"
   ]
  },
  {
   "cell_type": "code",
   "execution_count": 4,
   "metadata": {},
   "outputs": [
    {
     "name": "stdout",
     "output_type": "stream",
     "text": [
      "Model: \"sequential\"\n",
      "_________________________________________________________________\n",
      "Layer (type)                 Output Shape              Param #   \n",
      "=================================================================\n",
      "conv2d (Conv2D)              (None, 148, 148, 32)      896       \n",
      "_________________________________________________________________\n",
      "max_pooling2d (MaxPooling2D) (None, 74, 74, 32)        0         \n",
      "_________________________________________________________________\n",
      "conv2d_1 (Conv2D)            (None, 72, 72, 64)        18496     \n",
      "_________________________________________________________________\n",
      "max_pooling2d_1 (MaxPooling2 (None, 36, 36, 64)        0         \n",
      "_________________________________________________________________\n",
      "conv2d_2 (Conv2D)            (None, 34, 34, 128)       73856     \n",
      "_________________________________________________________________\n",
      "max_pooling2d_2 (MaxPooling2 (None, 17, 17, 128)       0         \n",
      "_________________________________________________________________\n",
      "conv2d_3 (Conv2D)            (None, 15, 15, 128)       147584    \n",
      "_________________________________________________________________\n",
      "max_pooling2d_3 (MaxPooling2 (None, 7, 7, 128)         0         \n",
      "_________________________________________________________________\n",
      "flatten (Flatten)            (None, 6272)              0         \n",
      "_________________________________________________________________\n",
      "dropout (Dropout)            (None, 6272)              0         \n",
      "_________________________________________________________________\n",
      "dense (Dense)                (None, 512)               3211776   \n",
      "_________________________________________________________________\n",
      "dense_1 (Dense)              (None, 1)                 513       \n",
      "=================================================================\n",
      "Total params: 3,453,121\n",
      "Trainable params: 3,453,121\n",
      "Non-trainable params: 0\n",
      "_________________________________________________________________\n"
     ]
    }
   ],
   "source": [
    "\n",
    "#initializating as a sequencial model\n",
    "CNN = models.Sequential()\n",
    "#Base Layer\n",
    "CNN.add(layers.Conv2D(32, (3, 3), activation='relu',input_shape=(150, 150, 3)))\n",
    "CNN.add(layers.MaxPooling2D((2, 2)))\n",
    "\n",
    "#further 3 layers of 64,128,128. No need to add input shape as it is already defined in base layer.\n",
    "CNN.add(layers.Conv2D(64, (3, 3), activation='relu'))\n",
    "CNN.add(layers.MaxPooling2D((2, 2)))\n",
    "\n",
    "CNN.add(layers.Conv2D(128, (3, 3), activation='relu'))\n",
    "CNN.add(layers.MaxPooling2D((2, 2)))\n",
    "\n",
    "CNN.add(layers.Conv2D(128, (3, 3), activation='relu'))\n",
    "CNN.add(layers.MaxPooling2D((2, 2)))\n",
    "\n",
    "CNN.add(layers.Flatten()) # 1-D vector space\n",
    "\n",
    "CNN.add(layers.Dropout(0.5))#Newly Defined dropout layer\n",
    "\n",
    "CNN.add(layers.Dense(512, activation='relu')) # 512 neurons\n",
    "\n",
    "CNN.add(layers.Dense(1, activation='sigmoid')) # 0 or 1 output, So one neuron required at the end only.\n",
    "\n",
    "CNN.summary()"
   ]
  },
  {
   "cell_type": "code",
   "execution_count": 5,
   "metadata": {},
   "outputs": [],
   "source": [
    "#Adding loss function\n",
    "CNN.compile(loss='binary_crossentropy', optimizer=optimizers.RMSprop(),metrics=['acc'])\n"
   ]
  },
  {
   "cell_type": "code",
   "execution_count": 6,
   "metadata": {},
   "outputs": [
    {
     "name": "stdout",
     "output_type": "stream",
     "text": [
      "WARNING:tensorflow:From <ipython-input-6-01aeb430115b>:4: Model.fit_generator (from tensorflow.python.keras.engine.training) is deprecated and will be removed in a future version.\n",
      "Instructions for updating:\n",
      "Please use Model.fit, which supports generators.\n",
      "Epoch 1/30\n",
      "100/100 [==============================] - ETA: 0s - loss: 0.7402 - acc: 0.5110WARNING:tensorflow:Your input ran out of data; interrupting training. Make sure that your dataset or generator can generate at least `steps_per_epoch * epochs` batches (in this case, 100 batches). You may need to use the repeat() function when building your dataset.\n",
      "100/100 [==============================] - 60s 596ms/step - loss: 0.7402 - acc: 0.5110 - val_loss: 0.7672 - val_acc: 0.5000\n",
      "Epoch 2/30\n",
      "100/100 [==============================] - 52s 524ms/step - loss: 0.6849 - acc: 0.5740\n",
      "Epoch 3/30\n",
      "100/100 [==============================] - 52s 523ms/step - loss: 0.6391 - acc: 0.6545\n",
      "Epoch 4/30\n",
      "100/100 [==============================] - 53s 526ms/step - loss: 0.5850 - acc: 0.7005\n",
      "Epoch 5/30\n",
      "100/100 [==============================] - 51s 512ms/step - loss: 0.5512 - acc: 0.7240\n",
      "Epoch 6/30\n",
      "100/100 [==============================] - 52s 524ms/step - loss: 0.5560 - acc: 0.7490\n",
      "Epoch 7/30\n",
      "100/100 [==============================] - 51s 506ms/step - loss: 0.4861 - acc: 0.7635\n",
      "Epoch 8/30\n",
      "100/100 [==============================] - 52s 518ms/step - loss: 0.4700 - acc: 0.7850\n",
      "Epoch 9/30\n",
      "100/100 [==============================] - 50s 505ms/step - loss: 0.4474 - acc: 0.7930\n",
      "Epoch 10/30\n",
      "100/100 [==============================] - 50s 502ms/step - loss: 0.4105 - acc: 0.8155\n",
      "Epoch 11/30\n",
      "100/100 [==============================] - 50s 501ms/step - loss: 0.3850 - acc: 0.8340\n",
      "Epoch 12/30\n",
      "100/100 [==============================] - 50s 503ms/step - loss: 0.3595 - acc: 0.8400\n",
      "Epoch 13/30\n",
      "100/100 [==============================] - 50s 502ms/step - loss: 0.3316 - acc: 0.8615\n",
      "Epoch 14/30\n",
      "100/100 [==============================] - 51s 508ms/step - loss: 0.2984 - acc: 0.8725\n",
      "Epoch 15/30\n",
      "100/100 [==============================] - 49s 493ms/step - loss: 0.2730 - acc: 0.8835\n",
      "Epoch 16/30\n",
      "100/100 [==============================] - 49s 492ms/step - loss: 0.2455 - acc: 0.9005\n",
      "Epoch 17/30\n",
      "100/100 [==============================] - 49s 491ms/step - loss: 0.2164 - acc: 0.9095\n",
      "Epoch 18/30\n",
      "100/100 [==============================] - 49s 492ms/step - loss: 0.1990 - acc: 0.9250\n",
      "Epoch 19/30\n",
      "100/100 [==============================] - 49s 495ms/step - loss: 0.1963 - acc: 0.9185\n",
      "Epoch 20/30\n",
      "100/100 [==============================] - 49s 493ms/step - loss: 0.1945 - acc: 0.9235\n",
      "Epoch 21/30\n",
      "100/100 [==============================] - 49s 493ms/step - loss: 0.1686 - acc: 0.9330\n",
      "Epoch 22/30\n",
      "100/100 [==============================] - 49s 493ms/step - loss: 0.1617 - acc: 0.9390\n",
      "Epoch 23/30\n",
      "100/100 [==============================] - 49s 492ms/step - loss: 0.1746 - acc: 0.9360\n",
      "Epoch 24/30\n",
      "100/100 [==============================] - 49s 494ms/step - loss: 0.1513 - acc: 0.9460\n",
      "Epoch 25/30\n",
      "100/100 [==============================] - 49s 493ms/step - loss: 0.1193 - acc: 0.9580\n",
      "Epoch 26/30\n",
      "100/100 [==============================] - 49s 493ms/step - loss: 0.1408 - acc: 0.9530\n",
      "Epoch 27/30\n",
      "100/100 [==============================] - 49s 492ms/step - loss: 0.1400 - acc: 0.9500\n",
      "Epoch 28/30\n",
      "100/100 [==============================] - 49s 493ms/step - loss: 0.1243 - acc: 0.9560\n",
      "Epoch 29/30\n",
      "100/100 [==============================] - 49s 492ms/step - loss: 0.1210 - acc: 0.9615\n",
      "Epoch 30/30\n",
      "100/100 [==============================] - 49s 493ms/step - loss: 0.1302 - acc: 0.9565\n"
     ]
    }
   ],
   "source": [
    "#Model training with 30 epochs and 100 steps per epoch\n",
    "import scipy\n",
    "\n",
    "history = CNN.fit_generator(train_get,steps_per_epoch=100,epochs=30,validation_data=valid_get,validation_steps=100)\n"
   ]
  },
  {
   "cell_type": "code",
   "execution_count": 10,
   "metadata": {},
   "outputs": [
    {
     "data": {
      "image/png": "[encoded data removed]",
      "text/plain": [
       "<Figure size 432x288 with 1 Axes>"
      ]
     },
     "metadata": {
      "needs_background": "light"
     },
     "output_type": "display_data"
    },
    {
     "data": {
      "image/png": "[encoded data removed]",
      "text/plain": [
       "<Figure size 432x288 with 1 Axes>"
      ]
     },
     "metadata": {
      "needs_background": "light"
     },
     "output_type": "display_data"
    }
   ],
   "source": [
    "#Plotting losses and accuracy calcuated during training.\n",
    "\n",
    "accuracy = history.history['acc']\n",
    "accuracy_val = history.history['val_acc']\n",
    "loss = history.history['loss']\n",
    "val_loss = history.history['val_loss']\n",
    "\n",
    "epochs = range(1, len(accuracy) + 1)\n",
    "plt.plot(epochs, accuracy, 'bo', label='Training Accuracy')\n",
    "plt.title('Training and validation accuracy')\n",
    "plt.legend()\n",
    "plt.figure()\n",
    "plt.plot(epochs, loss, 'bo', label='Training Loss')\n",
    "plt.title('Training and Validation Loss')\n",
    "plt.legend()\n",
    "plt.show()"
   ]
  },
  {
   "cell_type": "code",
   "execution_count": 11,
   "metadata": {},
   "outputs": [
    {
     "name": "stdout",
     "output_type": "stream",
     "text": [
      "Found 1000 images belonging to 2 classes.\n",
      "50/50 [==============================] - 8s 156ms/step - loss: 1.1216 - acc: 0.7590\n"
     ]
    }
   ],
   "source": [
    "test_loss, test_acc = CNN.evaluate(rescale_train.flow_from_directory('dogs-vs-cat-small/test',target_size=(150, 150),batch_size=20,class_mode='binary'))"
   ]
  },
  {
   "cell_type": "code",
   "execution_count": 45,
   "metadata": {},
   "outputs": [],
   "source": [
    "import h5py\n",
    "CNN.save('weights_dropout.h5')"
   ]
  }
 ],
 "metadata": {
  "kernelspec": {
   "display_name": "Python 3",
   "language": "python",
   "name": "python3"
  },
  "language_info": {
   "codemirror_mode": {
    "name": "ipython",
    "version": 3
   },
   "file_extension": ".py",
   "mimetype": "text/x-python",
   "name": "python",
   "nbconvert_exporter": "python",
   "pygments_lexer": "ipython3",
   "version": "3.7.9"
  }
 },
 "nbformat": 4,
 "nbformat_minor": 4
}
